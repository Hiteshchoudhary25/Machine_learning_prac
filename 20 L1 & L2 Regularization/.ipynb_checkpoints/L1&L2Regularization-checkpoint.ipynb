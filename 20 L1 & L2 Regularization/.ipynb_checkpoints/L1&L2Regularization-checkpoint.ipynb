{
 "cells": [
  {
   "cell_type": "code",
   "execution_count": 5,
   "id": "c32e6bb0-3f68-42e6-b6ff-bc9d4bdfcfc3",
   "metadata": {},
   "outputs": [],
   "source": [
    "import pandas as pd\n",
    "import seaborn as sns\n",
    "import matplotlib.pyplot as plt\n",
    "from sklearn.preprocessing import StandardScaler\n",
    "from sklearn.model_selection import train_test_split"
   ]
  },
  {
   "cell_type": "code",
   "execution_count": 2,
   "id": "9a12ea09-bc7c-487e-b6a8-4dd4c5eb77b0",
   "metadata": {},
   "outputs": [
    {
     "data": {
      "text/html": [
       "<div>\n",
       "<style scoped>\n",
       "    .dataframe tbody tr th:only-of-type {\n",
       "        vertical-align: middle;\n",
       "    }\n",
       "\n",
       "    .dataframe tbody tr th {\n",
       "        vertical-align: top;\n",
       "    }\n",
       "\n",
       "    .dataframe thead th {\n",
       "        text-align: right;\n",
       "    }\n",
       "</style>\n",
       "<table border=\"1\" class=\"dataframe\">\n",
       "  <thead>\n",
       "    <tr style=\"text-align: right;\">\n",
       "      <th></th>\n",
       "      <th>id</th>\n",
       "      <th>date</th>\n",
       "      <th>price</th>\n",
       "      <th>bedrooms</th>\n",
       "      <th>bathrooms</th>\n",
       "      <th>sqft_living</th>\n",
       "      <th>sqft_lot</th>\n",
       "      <th>floors</th>\n",
       "      <th>waterfront</th>\n",
       "      <th>view</th>\n",
       "      <th>...</th>\n",
       "      <th>grade</th>\n",
       "      <th>sqft_above</th>\n",
       "      <th>sqft_basement</th>\n",
       "      <th>yr_built</th>\n",
       "      <th>yr_renovated</th>\n",
       "      <th>zipcode</th>\n",
       "      <th>lat</th>\n",
       "      <th>long</th>\n",
       "      <th>sqft_living15</th>\n",
       "      <th>sqft_lot15</th>\n",
       "    </tr>\n",
       "  </thead>\n",
       "  <tbody>\n",
       "    <tr>\n",
       "      <th>16088</th>\n",
       "      <td>4310703070</td>\n",
       "      <td>20150413T000000</td>\n",
       "      <td>650000.0</td>\n",
       "      <td>6</td>\n",
       "      <td>3.00</td>\n",
       "      <td>2960</td>\n",
       "      <td>5000</td>\n",
       "      <td>1.0</td>\n",
       "      <td>0</td>\n",
       "      <td>0</td>\n",
       "      <td>...</td>\n",
       "      <td>8</td>\n",
       "      <td>1790</td>\n",
       "      <td>1170</td>\n",
       "      <td>1968</td>\n",
       "      <td>0</td>\n",
       "      <td>98103</td>\n",
       "      <td>47.6971</td>\n",
       "      <td>-122.341</td>\n",
       "      <td>1280</td>\n",
       "      <td>1251</td>\n",
       "    </tr>\n",
       "    <tr>\n",
       "      <th>10848</th>\n",
       "      <td>8562900310</td>\n",
       "      <td>20140613T000000</td>\n",
       "      <td>615000.0</td>\n",
       "      <td>3</td>\n",
       "      <td>1.75</td>\n",
       "      <td>2350</td>\n",
       "      <td>20820</td>\n",
       "      <td>1.0</td>\n",
       "      <td>0</td>\n",
       "      <td>0</td>\n",
       "      <td>...</td>\n",
       "      <td>8</td>\n",
       "      <td>1800</td>\n",
       "      <td>550</td>\n",
       "      <td>1978</td>\n",
       "      <td>0</td>\n",
       "      <td>98074</td>\n",
       "      <td>47.6095</td>\n",
       "      <td>-122.059</td>\n",
       "      <td>2040</td>\n",
       "      <td>10800</td>\n",
       "    </tr>\n",
       "    <tr>\n",
       "      <th>5007</th>\n",
       "      <td>7454000605</td>\n",
       "      <td>20140710T000000</td>\n",
       "      <td>279000.0</td>\n",
       "      <td>2</td>\n",
       "      <td>1.00</td>\n",
       "      <td>670</td>\n",
       "      <td>6300</td>\n",
       "      <td>1.0</td>\n",
       "      <td>0</td>\n",
       "      <td>0</td>\n",
       "      <td>...</td>\n",
       "      <td>6</td>\n",
       "      <td>670</td>\n",
       "      <td>0</td>\n",
       "      <td>1942</td>\n",
       "      <td>0</td>\n",
       "      <td>98126</td>\n",
       "      <td>47.5161</td>\n",
       "      <td>-122.374</td>\n",
       "      <td>760</td>\n",
       "      <td>6300</td>\n",
       "    </tr>\n",
       "    <tr>\n",
       "      <th>9654</th>\n",
       "      <td>1126059170</td>\n",
       "      <td>20150225T000000</td>\n",
       "      <td>760500.0</td>\n",
       "      <td>4</td>\n",
       "      <td>2.25</td>\n",
       "      <td>2310</td>\n",
       "      <td>36136</td>\n",
       "      <td>2.0</td>\n",
       "      <td>0</td>\n",
       "      <td>0</td>\n",
       "      <td>...</td>\n",
       "      <td>9</td>\n",
       "      <td>2310</td>\n",
       "      <td>0</td>\n",
       "      <td>1977</td>\n",
       "      <td>0</td>\n",
       "      <td>98072</td>\n",
       "      <td>47.7506</td>\n",
       "      <td>-122.122</td>\n",
       "      <td>3930</td>\n",
       "      <td>36136</td>\n",
       "    </tr>\n",
       "  </tbody>\n",
       "</table>\n",
       "<p>4 rows × 21 columns</p>\n",
       "</div>"
      ],
      "text/plain": [
       "               id             date     price  bedrooms  bathrooms  \\\n",
       "16088  4310703070  20150413T000000  650000.0         6       3.00   \n",
       "10848  8562900310  20140613T000000  615000.0         3       1.75   \n",
       "5007   7454000605  20140710T000000  279000.0         2       1.00   \n",
       "9654   1126059170  20150225T000000  760500.0         4       2.25   \n",
       "\n",
       "       sqft_living  sqft_lot  floors  waterfront  view  ...  grade  \\\n",
       "16088         2960      5000     1.0           0     0  ...      8   \n",
       "10848         2350     20820     1.0           0     0  ...      8   \n",
       "5007           670      6300     1.0           0     0  ...      6   \n",
       "9654          2310     36136     2.0           0     0  ...      9   \n",
       "\n",
       "       sqft_above  sqft_basement  yr_built  yr_renovated  zipcode      lat  \\\n",
       "16088        1790           1170      1968             0    98103  47.6971   \n",
       "10848        1800            550      1978             0    98074  47.6095   \n",
       "5007          670              0      1942             0    98126  47.5161   \n",
       "9654         2310              0      1977             0    98072  47.7506   \n",
       "\n",
       "          long  sqft_living15  sqft_lot15  \n",
       "16088 -122.341           1280        1251  \n",
       "10848 -122.059           2040       10800  \n",
       "5007  -122.374            760        6300  \n",
       "9654  -122.122           3930       36136  \n",
       "\n",
       "[4 rows x 21 columns]"
      ]
     },
     "execution_count": 2,
     "metadata": {},
     "output_type": "execute_result"
    }
   ],
   "source": [
    "df = pd.read_csv(\"Housing.csv\")\n",
    "df.sample(4)"
   ]
  },
  {
   "cell_type": "code",
   "execution_count": 10,
   "id": "77c4f2dd-fb99-45a0-9aa2-5d72829cb059",
   "metadata": {},
   "outputs": [],
   "source": [
    "x = df.iloc[: , 3 :]\n",
    "y = df[\"price\"]"
   ]
  },
  {
   "cell_type": "code",
   "execution_count": null,
   "id": "d0341d28-d58f-4ea7-b56c-0a067ac9e347",
   "metadata": {},
   "outputs": [],
   "source": []
  },
  {
   "cell_type": "code",
   "execution_count": 12,
   "id": "f6fc4608-31bb-4993-9723-c9ec7ea1f357",
   "metadata": {},
   "outputs": [
    {
     "data": {
      "text/html": [
       "<div>\n",
       "<style scoped>\n",
       "    .dataframe tbody tr th:only-of-type {\n",
       "        vertical-align: middle;\n",
       "    }\n",
       "\n",
       "    .dataframe tbody tr th {\n",
       "        vertical-align: top;\n",
       "    }\n",
       "\n",
       "    .dataframe thead th {\n",
       "        text-align: right;\n",
       "    }\n",
       "</style>\n",
       "<table border=\"1\" class=\"dataframe\">\n",
       "  <thead>\n",
       "    <tr style=\"text-align: right;\">\n",
       "      <th></th>\n",
       "      <th>bedrooms</th>\n",
       "      <th>bathrooms</th>\n",
       "      <th>sqft_living</th>\n",
       "      <th>sqft_lot</th>\n",
       "      <th>floors</th>\n",
       "      <th>waterfront</th>\n",
       "      <th>view</th>\n",
       "      <th>condition</th>\n",
       "      <th>grade</th>\n",
       "      <th>sqft_above</th>\n",
       "      <th>sqft_basement</th>\n",
       "      <th>yr_built</th>\n",
       "      <th>yr_renovated</th>\n",
       "      <th>zipcode</th>\n",
       "      <th>lat</th>\n",
       "      <th>long</th>\n",
       "      <th>sqft_living15</th>\n",
       "      <th>sqft_lot15</th>\n",
       "    </tr>\n",
       "  </thead>\n",
       "  <tbody>\n",
       "    <tr>\n",
       "      <th>0</th>\n",
       "      <td>-1.473841</td>\n",
       "      <td>-1.447464</td>\n",
       "      <td>-0.979835</td>\n",
       "      <td>-0.228321</td>\n",
       "      <td>-0.915427</td>\n",
       "      <td>-0.087173</td>\n",
       "      <td>-0.305759</td>\n",
       "      <td>-0.629187</td>\n",
       "      <td>-0.558836</td>\n",
       "      <td>-0.734708</td>\n",
       "      <td>-0.658681</td>\n",
       "      <td>-0.544898</td>\n",
       "      <td>-0.210128</td>\n",
       "      <td>1.870152</td>\n",
       "      <td>-0.352572</td>\n",
       "      <td>-0.306079</td>\n",
       "      <td>-0.943355</td>\n",
       "      <td>-0.260715</td>\n",
       "    </tr>\n",
       "    <tr>\n",
       "      <th>1</th>\n",
       "      <td>-0.398669</td>\n",
       "      <td>0.175607</td>\n",
       "      <td>0.533634</td>\n",
       "      <td>-0.189885</td>\n",
       "      <td>0.936506</td>\n",
       "      <td>-0.087173</td>\n",
       "      <td>-0.305759</td>\n",
       "      <td>-0.629187</td>\n",
       "      <td>-0.558836</td>\n",
       "      <td>0.460841</td>\n",
       "      <td>0.245141</td>\n",
       "      <td>-0.681079</td>\n",
       "      <td>4.746678</td>\n",
       "      <td>0.879568</td>\n",
       "      <td>1.161568</td>\n",
       "      <td>-0.746341</td>\n",
       "      <td>-0.432686</td>\n",
       "      <td>-0.187868</td>\n",
       "    </tr>\n",
       "    <tr>\n",
       "      <th>2</th>\n",
       "      <td>-1.473841</td>\n",
       "      <td>-1.447464</td>\n",
       "      <td>-1.426254</td>\n",
       "      <td>-0.123298</td>\n",
       "      <td>-0.915427</td>\n",
       "      <td>-0.087173</td>\n",
       "      <td>-0.305759</td>\n",
       "      <td>-0.629187</td>\n",
       "      <td>-1.409587</td>\n",
       "      <td>-1.229834</td>\n",
       "      <td>-0.658681</td>\n",
       "      <td>-1.293892</td>\n",
       "      <td>-0.210128</td>\n",
       "      <td>-0.933388</td>\n",
       "      <td>1.283537</td>\n",
       "      <td>-0.135655</td>\n",
       "      <td>1.070140</td>\n",
       "      <td>-0.172375</td>\n",
       "    </tr>\n",
       "    <tr>\n",
       "      <th>3</th>\n",
       "      <td>0.676503</td>\n",
       "      <td>1.149449</td>\n",
       "      <td>-0.130550</td>\n",
       "      <td>-0.244014</td>\n",
       "      <td>-0.915427</td>\n",
       "      <td>-0.087173</td>\n",
       "      <td>-0.305759</td>\n",
       "      <td>2.444294</td>\n",
       "      <td>-0.558836</td>\n",
       "      <td>-0.891699</td>\n",
       "      <td>1.397515</td>\n",
       "      <td>-0.204446</td>\n",
       "      <td>-0.210128</td>\n",
       "      <td>1.085160</td>\n",
       "      <td>-0.283288</td>\n",
       "      <td>-1.271816</td>\n",
       "      <td>-0.914174</td>\n",
       "      <td>-0.284522</td>\n",
       "    </tr>\n",
       "    <tr>\n",
       "      <th>4</th>\n",
       "      <td>-0.398669</td>\n",
       "      <td>-0.149007</td>\n",
       "      <td>-0.435422</td>\n",
       "      <td>-0.169653</td>\n",
       "      <td>-0.915427</td>\n",
       "      <td>-0.087173</td>\n",
       "      <td>-0.305759</td>\n",
       "      <td>-0.629187</td>\n",
       "      <td>0.291916</td>\n",
       "      <td>-0.130895</td>\n",
       "      <td>-0.658681</td>\n",
       "      <td>0.544548</td>\n",
       "      <td>-0.210128</td>\n",
       "      <td>-0.073636</td>\n",
       "      <td>0.409550</td>\n",
       "      <td>1.199335</td>\n",
       "      <td>-0.272190</td>\n",
       "      <td>-0.192849</td>\n",
       "    </tr>\n",
       "    <tr>\n",
       "      <th>...</th>\n",
       "      <td>...</td>\n",
       "      <td>...</td>\n",
       "      <td>...</td>\n",
       "      <td>...</td>\n",
       "      <td>...</td>\n",
       "      <td>...</td>\n",
       "      <td>...</td>\n",
       "      <td>...</td>\n",
       "      <td>...</td>\n",
       "      <td>...</td>\n",
       "      <td>...</td>\n",
       "      <td>...</td>\n",
       "      <td>...</td>\n",
       "      <td>...</td>\n",
       "      <td>...</td>\n",
       "      <td>...</td>\n",
       "      <td>...</td>\n",
       "      <td>...</td>\n",
       "    </tr>\n",
       "    <tr>\n",
       "      <th>21608</th>\n",
       "      <td>-0.398669</td>\n",
       "      <td>0.500221</td>\n",
       "      <td>-0.598746</td>\n",
       "      <td>-0.337424</td>\n",
       "      <td>2.788439</td>\n",
       "      <td>-0.087173</td>\n",
       "      <td>-0.305759</td>\n",
       "      <td>-0.629187</td>\n",
       "      <td>0.291916</td>\n",
       "      <td>-0.312039</td>\n",
       "      <td>-0.658681</td>\n",
       "      <td>1.293542</td>\n",
       "      <td>-0.210128</td>\n",
       "      <td>0.468382</td>\n",
       "      <td>1.004958</td>\n",
       "      <td>-0.938069</td>\n",
       "      <td>-0.666135</td>\n",
       "      <td>-0.412381</td>\n",
       "    </tr>\n",
       "    <tr>\n",
       "      <th>21609</th>\n",
       "      <td>0.676503</td>\n",
       "      <td>0.500221</td>\n",
       "      <td>0.250539</td>\n",
       "      <td>-0.224386</td>\n",
       "      <td>0.936506</td>\n",
       "      <td>-0.087173</td>\n",
       "      <td>-0.305759</td>\n",
       "      <td>-0.629187</td>\n",
       "      <td>0.291916</td>\n",
       "      <td>0.629908</td>\n",
       "      <td>-0.658681</td>\n",
       "      <td>1.463768</td>\n",
       "      <td>-0.210128</td>\n",
       "      <td>1.272063</td>\n",
       "      <td>-0.356180</td>\n",
       "      <td>-1.051685</td>\n",
       "      <td>-0.228419</td>\n",
       "      <td>-0.203946</td>\n",
       "    </tr>\n",
       "    <tr>\n",
       "      <th>21610</th>\n",
       "      <td>-1.473841</td>\n",
       "      <td>-1.772078</td>\n",
       "      <td>-1.154047</td>\n",
       "      <td>-0.332137</td>\n",
       "      <td>0.936506</td>\n",
       "      <td>-0.087173</td>\n",
       "      <td>-0.305759</td>\n",
       "      <td>-0.629187</td>\n",
       "      <td>-0.558836</td>\n",
       "      <td>-0.927928</td>\n",
       "      <td>-0.658681</td>\n",
       "      <td>1.293542</td>\n",
       "      <td>-0.210128</td>\n",
       "      <td>1.234683</td>\n",
       "      <td>0.247888</td>\n",
       "      <td>-0.604321</td>\n",
       "      <td>-1.410253</td>\n",
       "      <td>-0.394141</td>\n",
       "    </tr>\n",
       "    <tr>\n",
       "      <th>21611</th>\n",
       "      <td>-0.398669</td>\n",
       "      <td>0.500221</td>\n",
       "      <td>-0.522528</td>\n",
       "      <td>-0.307076</td>\n",
       "      <td>0.936506</td>\n",
       "      <td>-0.087173</td>\n",
       "      <td>-0.305759</td>\n",
       "      <td>-0.629187</td>\n",
       "      <td>0.291916</td>\n",
       "      <td>-0.227505</td>\n",
       "      <td>-0.658681</td>\n",
       "      <td>1.123316</td>\n",
       "      <td>-0.210128</td>\n",
       "      <td>-0.952078</td>\n",
       "      <td>-0.184414</td>\n",
       "      <td>1.028910</td>\n",
       "      <td>-0.841221</td>\n",
       "      <td>-0.420511</td>\n",
       "    </tr>\n",
       "    <tr>\n",
       "      <th>21612</th>\n",
       "      <td>-1.473841</td>\n",
       "      <td>-1.772078</td>\n",
       "      <td>-1.154047</td>\n",
       "      <td>-0.338752</td>\n",
       "      <td>0.936506</td>\n",
       "      <td>-0.087173</td>\n",
       "      <td>-0.305759</td>\n",
       "      <td>-0.629187</td>\n",
       "      <td>-0.558836</td>\n",
       "      <td>-0.927928</td>\n",
       "      <td>-0.658681</td>\n",
       "      <td>1.259497</td>\n",
       "      <td>-0.210128</td>\n",
       "      <td>1.234683</td>\n",
       "      <td>0.245723</td>\n",
       "      <td>-0.604321</td>\n",
       "      <td>-1.410253</td>\n",
       "      <td>-0.417948</td>\n",
       "    </tr>\n",
       "  </tbody>\n",
       "</table>\n",
       "<p>21613 rows × 18 columns</p>\n",
       "</div>"
      ],
      "text/plain": [
       "       bedrooms  bathrooms  sqft_living  sqft_lot    floors  waterfront  \\\n",
       "0     -1.473841  -1.447464    -0.979835 -0.228321 -0.915427   -0.087173   \n",
       "1     -0.398669   0.175607     0.533634 -0.189885  0.936506   -0.087173   \n",
       "2     -1.473841  -1.447464    -1.426254 -0.123298 -0.915427   -0.087173   \n",
       "3      0.676503   1.149449    -0.130550 -0.244014 -0.915427   -0.087173   \n",
       "4     -0.398669  -0.149007    -0.435422 -0.169653 -0.915427   -0.087173   \n",
       "...         ...        ...          ...       ...       ...         ...   \n",
       "21608 -0.398669   0.500221    -0.598746 -0.337424  2.788439   -0.087173   \n",
       "21609  0.676503   0.500221     0.250539 -0.224386  0.936506   -0.087173   \n",
       "21610 -1.473841  -1.772078    -1.154047 -0.332137  0.936506   -0.087173   \n",
       "21611 -0.398669   0.500221    -0.522528 -0.307076  0.936506   -0.087173   \n",
       "21612 -1.473841  -1.772078    -1.154047 -0.338752  0.936506   -0.087173   \n",
       "\n",
       "           view  condition     grade  sqft_above  sqft_basement  yr_built  \\\n",
       "0     -0.305759  -0.629187 -0.558836   -0.734708      -0.658681 -0.544898   \n",
       "1     -0.305759  -0.629187 -0.558836    0.460841       0.245141 -0.681079   \n",
       "2     -0.305759  -0.629187 -1.409587   -1.229834      -0.658681 -1.293892   \n",
       "3     -0.305759   2.444294 -0.558836   -0.891699       1.397515 -0.204446   \n",
       "4     -0.305759  -0.629187  0.291916   -0.130895      -0.658681  0.544548   \n",
       "...         ...        ...       ...         ...            ...       ...   \n",
       "21608 -0.305759  -0.629187  0.291916   -0.312039      -0.658681  1.293542   \n",
       "21609 -0.305759  -0.629187  0.291916    0.629908      -0.658681  1.463768   \n",
       "21610 -0.305759  -0.629187 -0.558836   -0.927928      -0.658681  1.293542   \n",
       "21611 -0.305759  -0.629187  0.291916   -0.227505      -0.658681  1.123316   \n",
       "21612 -0.305759  -0.629187 -0.558836   -0.927928      -0.658681  1.259497   \n",
       "\n",
       "       yr_renovated   zipcode       lat      long  sqft_living15  sqft_lot15  \n",
       "0         -0.210128  1.870152 -0.352572 -0.306079      -0.943355   -0.260715  \n",
       "1          4.746678  0.879568  1.161568 -0.746341      -0.432686   -0.187868  \n",
       "2         -0.210128 -0.933388  1.283537 -0.135655       1.070140   -0.172375  \n",
       "3         -0.210128  1.085160 -0.283288 -1.271816      -0.914174   -0.284522  \n",
       "4         -0.210128 -0.073636  0.409550  1.199335      -0.272190   -0.192849  \n",
       "...             ...       ...       ...       ...            ...         ...  \n",
       "21608     -0.210128  0.468382  1.004958 -0.938069      -0.666135   -0.412381  \n",
       "21609     -0.210128  1.272063 -0.356180 -1.051685      -0.228419   -0.203946  \n",
       "21610     -0.210128  1.234683  0.247888 -0.604321      -1.410253   -0.394141  \n",
       "21611     -0.210128 -0.952078 -0.184414  1.028910      -0.841221   -0.420511  \n",
       "21612     -0.210128  1.234683  0.245723 -0.604321      -1.410253   -0.417948  \n",
       "\n",
       "[21613 rows x 18 columns]"
      ]
     },
     "execution_count": 12,
     "metadata": {},
     "output_type": "execute_result"
    }
   ],
   "source": [
    "sc = StandardScaler()\n",
    "sc.fit(x)\n",
    "x = pd.DataFrame(sc.transform(x) , columns=x.columns)\n",
    "x"
   ]
  },
  {
   "cell_type": "code",
   "execution_count": 19,
   "id": "d93f451b-1469-483e-b416-30c40bc51845",
   "metadata": {},
   "outputs": [],
   "source": [
    "x_train , x_test , y_train , y_test = train_test_split(x,y,test_size=0.2,random_state=35)"
   ]
  },
  {
   "cell_type": "code",
   "execution_count": 20,
   "id": "becd2468-3005-45e6-b5a5-7a5a2e9e1bed",
   "metadata": {},
   "outputs": [],
   "source": [
    "from sklearn.linear_model import LinearRegression , Lasso , Ridge"
   ]
  },
  {
   "cell_type": "code",
   "execution_count": 36,
   "id": "1d060caf-b616-4ace-90e6-8a951258596f",
   "metadata": {},
   "outputs": [],
   "source": [
    "from sklearn.metrics import mean_absolute_error , mean_squared_error\n",
    "import numpy as np"
   ]
  },
  {
   "cell_type": "code",
   "execution_count": null,
   "id": "bd9b2070-391d-43ef-89ad-1458b488b8e4",
   "metadata": {},
   "outputs": [],
   "source": []
  },
  {
   "cell_type": "markdown",
   "id": "a231f2be-d0ce-47f1-ab4e-543c7a39bc4f",
   "metadata": {},
   "source": [
    "# Linear Regression"
   ]
  },
  {
   "cell_type": "code",
   "execution_count": 21,
   "id": "18920f92-510a-4a8c-92fd-0065a6a213fd",
   "metadata": {},
   "outputs": [
    {
     "data": {
      "text/plain": [
       "69.07906561476963"
      ]
     },
     "execution_count": 21,
     "metadata": {},
     "output_type": "execute_result"
    }
   ],
   "source": [
    "lr = LinearRegression()\n",
    "lr.fit(x_train , y_train)\n",
    "lr.score(x_test , y_test)*100"
   ]
  },
  {
   "cell_type": "code",
   "execution_count": 39,
   "id": "603d3922-fec4-4a25-af2f-b1ddf5484beb",
   "metadata": {},
   "outputs": [
    {
     "name": "stdout",
     "output_type": "stream",
     "text": [
      "46904683021.77896\n",
      "127064.52783203147\n",
      "216574.8900998889\n"
     ]
    }
   ],
   "source": [
    "print(mean_squared_error(y_test,lr.predict(x_test)))\n",
    "print(mean_absolute_error(y_test,lr.predict(x_test)))\n",
    "print(np.sqrt(mean_squared_error(y_test,lr.predict(x_test))))"
   ]
  },
  {
   "cell_type": "code",
   "execution_count": null,
   "id": "8dcd524e-0f85-4ef8-b1ad-dc9b8de82e5e",
   "metadata": {},
   "outputs": [],
   "source": []
  },
  {
   "cell_type": "code",
   "execution_count": 22,
   "id": "1c0c99e0-0402-4fff-9f02-113839688bf0",
   "metadata": {},
   "outputs": [
    {
     "data": {
      "text/plain": [
       "array([-2.95768218e+04,  2.98499881e+04, -9.70582592e+17,  5.12409160e+03,\n",
       "        5.20746835e+03,  5.23385526e+04,  3.84878587e+04,  1.66307029e+04,\n",
       "        1.13335921e+05,  8.75103330e+17,  4.67700898e+17, -7.58536460e+04,\n",
       "        7.82068495e+03, -3.16664452e+04,  8.40013372e+04, -2.91802845e+04,\n",
       "        1.61264826e+04, -9.96650494e+03])"
      ]
     },
     "execution_count": 22,
     "metadata": {},
     "output_type": "execute_result"
    }
   ],
   "source": [
    "lr.coef_"
   ]
  },
  {
   "cell_type": "code",
   "execution_count": 30,
   "id": "f363bb42-d3ba-4abd-ba50-027d934d56a4",
   "metadata": {},
   "outputs": [
    {
     "data": {
      "image/png": "[encoded data removed]",
      "text/plain": [
       "<Figure size 2000x1000 with 1 Axes>"
      ]
     },
     "metadata": {},
     "output_type": "display_data"
    }
   ],
   "source": [
    "plt.figure(figsize=(20,10))\n",
    "plt.bar(x.columns , lr.coef_)\n",
    "plt.show()"
   ]
  },
  {
   "cell_type": "code",
   "execution_count": null,
   "id": "3ba8455f-f9fe-4720-9209-f799b695e8ad",
   "metadata": {},
   "outputs": [],
   "source": []
  },
  {
   "cell_type": "markdown",
   "id": "2d375ad0-3441-4b8f-bbd5-f94ebdacca1b",
   "metadata": {},
   "source": [
    "# Lasso"
   ]
  },
  {
   "cell_type": "code",
   "execution_count": 32,
   "id": "ac4e2ae5-3c3a-4bdf-abad-0d14144509fc",
   "metadata": {},
   "outputs": [
    {
     "name": "stderr",
     "output_type": "stream",
     "text": [
      "C:\\ProgramData\\anaconda3\\Lib\\site-packages\\sklearn\\linear_model\\_coordinate_descent.py:697: ConvergenceWarning: Objective did not converge. You might want to increase the number of iterations, check the scale of the features or consider increasing regularisation. Duality gap: 2.092e+13, tolerance: 2.257e+11\n",
      "  model = cd_fast.enet_coordinate_descent(\n"
     ]
    },
    {
     "data": {
      "text/plain": [
       "69.06076850894219"
      ]
     },
     "execution_count": 32,
     "metadata": {},
     "output_type": "execute_result"
    }
   ],
   "source": [
    "la  = Lasso(alpha=10)\n",
    "la.fit(x_train , y_train)\n",
    "la.score(x_test,  y_test)*100"
   ]
  },
  {
   "cell_type": "code",
   "execution_count": 40,
   "id": "21a70845-1c91-4c4f-b615-43da83880969",
   "metadata": {},
   "outputs": [
    {
     "name": "stdout",
     "output_type": "stream",
     "text": [
      "46932438326.27137\n",
      "126975.2961400441\n",
      "216638.95846839593\n"
     ]
    }
   ],
   "source": [
    "print(mean_squared_error(y_test,la.predict(x_test)))\n",
    "print(mean_absolute_error(y_test,la.predict(x_test)))\n",
    "print(np.sqrt(mean_squared_error(y_test,la.predict(x_test))))"
   ]
  },
  {
   "cell_type": "code",
   "execution_count": 33,
   "id": "2041adf5-e0a0-442f-ba55-bdaf059a60be",
   "metadata": {},
   "outputs": [
    {
     "data": {
      "image/png": "[encoded data removed]",
      "text/plain": [
       "<Figure size 2000x1000 with 1 Axes>"
      ]
     },
     "metadata": {},
     "output_type": "display_data"
    }
   ],
   "source": [
    "plt.figure(figsize=(20,10))\n",
    "plt.bar(x.columns , la.coef_)\n",
    "plt.show()"
   ]
  },
  {
   "cell_type": "code",
   "execution_count": null,
   "id": "9c66dc18-38e4-45ff-b3de-055ed46ecd50",
   "metadata": {},
   "outputs": [],
   "source": []
  },
  {
   "cell_type": "markdown",
   "id": "3e76ddfa-cc59-4da7-884a-00ce82c308de",
   "metadata": {},
   "source": [
    "# Ridge"
   ]
  },
  {
   "cell_type": "code",
   "execution_count": 34,
   "id": "3e585057-c5dd-4d49-bfcd-8cbb6a1839c0",
   "metadata": {},
   "outputs": [
    {
     "data": {
      "text/plain": [
       "69.0588784334592"
      ]
     },
     "execution_count": 34,
     "metadata": {},
     "output_type": "execute_result"
    }
   ],
   "source": [
    "ri  = Ridge(alpha=10)\n",
    "ri.fit(x_train , y_train)\n",
    "ri.score(x_test,  y_test)*100"
   ]
  },
  {
   "cell_type": "code",
   "execution_count": 41,
   "id": "1dbe3a7f-3257-49b2-9336-d476be536398",
   "metadata": {},
   "outputs": [
    {
     "name": "stdout",
     "output_type": "stream",
     "text": [
      "46935305425.638824\n",
      "126954.14557445592\n",
      "216645.57559673087\n"
     ]
    }
   ],
   "source": [
    "print(mean_squared_error(y_test,ri.predict(x_test)))\n",
    "print(mean_absolute_error(y_test,ri.predict(x_test)))\n",
    "print(np.sqrt(mean_squared_error(y_test,ri.predict(x_test))))"
   ]
  },
  {
   "cell_type": "code",
   "execution_count": 35,
   "id": "1ef5a633-1265-49b9-9ab0-cb685c5ac632",
   "metadata": {},
   "outputs": [
    {
     "data": {
      "image/png": "[encoded data removed]",
      "text/plain": [
       "<Figure size 2000x1000 with 1 Axes>"
      ]
     },
     "metadata": {},
     "output_type": "display_data"
    }
   ],
   "source": [
    "plt.figure(figsize=(20,10))\n",
    "plt.bar(x.columns , ri.coef_)\n",
    "plt.show()"
   ]
  },
  {
   "cell_type": "code",
   "execution_count": null,
   "id": "fe2e9228-f7c8-425a-ab70-a352a6d6ef56",
   "metadata": {},
   "outputs": [],
   "source": []
  }
 ],
 "metadata": {
  "kernelspec": {
   "display_name": "Python 3 (ipykernel)",
   "language": "python",
   "name": "python3"
  },
  "language_info": {
   "codemirror_mode": {
    "name": "ipython",
    "version": 3
   },
   "file_extension": ".py",
   "mimetype": "text/x-python",
   "name": "python",
   "nbconvert_exporter": "python",
   "pygments_lexer": "ipython3",
   "version": "3.12.7"
  }
 },
 "nbformat": 4,
 "nbformat_minor": 5
}
